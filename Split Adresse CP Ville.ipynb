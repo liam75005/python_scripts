{
 "cells": [
  {
   "cell_type": "code",
   "execution_count": 132,
   "metadata": {},
   "outputs": [],
   "source": [
    "from openpyxl import Workbook\n",
    "from openpyxl import load_workbook\n",
    "import pandas as pd\n",
    "import re"
   ]
  },
  {
   "cell_type": "code",
   "execution_count": 146,
   "metadata": {},
   "outputs": [],
   "source": [
    "## Load data frame FR\n",
    "dataFrame = pd.read_excel(\"180808_BDD Carrier_Pour nettoyage.xlsx\")"
   ]
  },
  {
   "cell_type": "code",
   "execution_count": 147,
   "metadata": {},
   "outputs": [
    {
     "name": "stdout",
     "output_type": "stream",
     "text": [
      "Ok: 2073\n",
      "Pc: 496\n",
      "Ko: 519\n"
     ]
    }
   ],
   "source": [
    "## Line by line analyse if postcode / reg ex identificable, create street, zip, city if possible\n",
    "ok = 0\n",
    "ko = 0\n",
    "pc = 0\n",
    "for i,j in dataFrame.iterrows():\n",
    "    if type(dataFrame.loc[i,'Adresse'])==str and re.match(r'^(?P<street>.*)(?P<zipcode>\\d{5})(?P<city>.*$)', dataFrame.loc[i,'Adresse']) is not None :\n",
    "        ok = ok+1\n",
    "        dataFrame.loc[i,'street']=re.match(r'^(?P<street>.*)(?P<zipcode>\\d{5})(?P<city>.*$)', dataFrame.loc[i,'Adresse']).groupdict()['street']\n",
    "        dataFrame.loc[i,'zipcode']=re.match(r'^(?P<street>.*)(?P<zipcode>\\d{5})(?P<city>.*$)', dataFrame.loc[i,'Adresse']).groupdict()['zipcode']\n",
    "        dataFrame.loc[i,'city']=re.match(r'^(?P<street>.*)(?P<zipcode>\\d{5})(?P<city>.*$)', dataFrame.loc[i,'Adresse']).groupdict()['city']\n",
    "    elif type(dataFrame.loc[i,'Adresse'])==int:\n",
    "        pc = pc+1\n",
    "        dataFrame.loc[i,'street']=''\n",
    "        dataFrame.loc[i,'zipcode']=dataFrame.loc[i,'Adresse']\n",
    "        dataFrame.loc[i,'city']=''\n",
    "    else:\n",
    "        ko = ko+1\n",
    "        dataFrame.loc[i,'street']=''\n",
    "        dataFrame.loc[i,'zipcode']=''\n",
    "        dataFrame.loc[i,'city']=''\n",
    "print (\"Ok: \"+str(ok))\n",
    "print (\"Pc: \"+str(pc))\n",
    "print (\"Ko: \"+str(ko))"
   ]
  },
  {
   "cell_type": "code",
   "execution_count": 148,
   "metadata": {},
   "outputs": [],
   "source": [
    "## Write results to Excel\n",
    "writer = pd.ExcelWriter(\"180808_BDD Carrier_Pour nettoyage_output.xlsx\")\n",
    "dataFrame.to_excel(writer, 'Feuil1')\n",
    "writer.save()"
   ]
  },
  {
   "cell_type": "code",
   "execution_count": null,
   "metadata": {},
   "outputs": [],
   "source": []
  }
 ],
 "metadata": {
  "kernelspec": {
   "display_name": "Python 3",
   "language": "python",
   "name": "python3"
  },
  "language_info": {
   "codemirror_mode": {
    "name": "ipython",
    "version": 3
   },
   "file_extension": ".py",
   "mimetype": "text/x-python",
   "name": "python",
   "nbconvert_exporter": "python",
   "pygments_lexer": "ipython3",
   "version": "3.6.5"
  }
 },
 "nbformat": 4,
 "nbformat_minor": 2
}
